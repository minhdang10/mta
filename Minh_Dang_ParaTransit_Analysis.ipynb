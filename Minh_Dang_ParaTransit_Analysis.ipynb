{
 "cells": [
  {
   "cell_type": "markdown",
   "id": "221441ee-3fc1-475a-a1da-877350ae18d7",
   "metadata": {},
   "source": [
    "# ParaTransit Analysis\n",
    "\n",
    "---\n",
    "\n",
    "1. Import packages\n",
    "2. Loading data with Pandas\n",
    "3. Descriptive statistics of data\n",
    "4. Hypothesis investigation\n",
    "\n",
    "---\n",
    "\n",
    "## 1. Import packages"
   ]
  },
  {
   "cell_type": "code",
   "execution_count": 1,
   "id": "09783956-5e25-4903-bf41-51a536db888b",
   "metadata": {},
   "outputs": [],
   "source": [
    "import pandas as pd"
   ]
  },
  {
   "cell_type": "markdown",
   "id": "4ce97aab-4ae9-4f49-b698-27065b7150b4",
   "metadata": {},
   "source": [
    "---\n",
    "\n",
    "## 2. Loading data with Pandas"
   ]
  },
  {
   "cell_type": "code",
   "execution_count": 2,
   "id": "f2be0142-527b-45f3-8baf-df1e5a8b700d",
   "metadata": {},
   "outputs": [],
   "source": [
    "trip_df = pd.read_csv('./trips.csv')"
   ]
  },
  {
   "cell_type": "code",
   "execution_count": 3,
   "id": "c66c602e-f98b-42ae-bdf1-7e0af1ddad4c",
   "metadata": {},
   "outputs": [
    {
     "data": {
      "text/html": [
       "<div>\n",
       "<style scoped>\n",
       "    .dataframe tbody tr th:only-of-type {\n",
       "        vertical-align: middle;\n",
       "    }\n",
       "\n",
       "    .dataframe tbody tr th {\n",
       "        vertical-align: top;\n",
       "    }\n",
       "\n",
       "    .dataframe thead th {\n",
       "        text-align: right;\n",
       "    }\n",
       "</style>\n",
       "<table border=\"1\" class=\"dataframe\">\n",
       "  <thead>\n",
       "    <tr style=\"text-align: right;\">\n",
       "      <th></th>\n",
       "      <th>TripId</th>\n",
       "      <th>Clientid</th>\n",
       "      <th>Status</th>\n",
       "      <th>ProviderType</th>\n",
       "      <th>Outcome</th>\n",
       "      <th>Tripdate</th>\n",
       "      <th>RequestTime</th>\n",
       "      <th>PromiseTime</th>\n",
       "      <th>ProviderId</th>\n",
       "      <th>APtime</th>\n",
       "      <th>APtime1</th>\n",
       "      <th>ADtime</th>\n",
       "      <th>Anchor</th>\n",
       "      <th>PickCounty</th>\n",
       "      <th>PickZip</th>\n",
       "      <th>DropCounty</th>\n",
       "      <th>DropZip</th>\n",
       "      <th>TripMiles</th>\n",
       "    </tr>\n",
       "  </thead>\n",
       "  <tbody>\n",
       "    <tr>\n",
       "      <th>0</th>\n",
       "      <td>1</td>\n",
       "      <td>18958</td>\n",
       "      <td>CX</td>\n",
       "      <td>E-Hail</td>\n",
       "      <td>Early Cancel</td>\n",
       "      <td>2022-04-01</td>\n",
       "      <td>06:30</td>\n",
       "      <td>05:35</td>\n",
       "      <td>NaN</td>\n",
       "      <td>00:00</td>\n",
       "      <td>00:00</td>\n",
       "      <td>00:00</td>\n",
       "      <td>P</td>\n",
       "      <td>Kings County</td>\n",
       "      <td>11228</td>\n",
       "      <td>Kings County</td>\n",
       "      <td>11219</td>\n",
       "      <td>0.00</td>\n",
       "    </tr>\n",
       "    <tr>\n",
       "      <th>1</th>\n",
       "      <td>2</td>\n",
       "      <td>33563</td>\n",
       "      <td>S</td>\n",
       "      <td>E-Hail</td>\n",
       "      <td>Authorized</td>\n",
       "      <td>2022-04-01</td>\n",
       "      <td>23:00</td>\n",
       "      <td>22:03</td>\n",
       "      <td>ISA</td>\n",
       "      <td>00:00</td>\n",
       "      <td>00:00</td>\n",
       "      <td>00:00</td>\n",
       "      <td>A</td>\n",
       "      <td>Richmond County</td>\n",
       "      <td>10308</td>\n",
       "      <td>Richmond County</td>\n",
       "      <td>10307</td>\n",
       "      <td>7.63</td>\n",
       "    </tr>\n",
       "    <tr>\n",
       "      <th>2</th>\n",
       "      <td>9</td>\n",
       "      <td>51426</td>\n",
       "      <td>CX</td>\n",
       "      <td>E-Hail</td>\n",
       "      <td>Early Cancel</td>\n",
       "      <td>2022-04-01</td>\n",
       "      <td>15:30</td>\n",
       "      <td>14:48</td>\n",
       "      <td>NaN</td>\n",
       "      <td>00:00</td>\n",
       "      <td>00:00</td>\n",
       "      <td>00:00</td>\n",
       "      <td>P</td>\n",
       "      <td>New York County</td>\n",
       "      <td>10022</td>\n",
       "      <td>Richmond County</td>\n",
       "      <td>10301</td>\n",
       "      <td>0.00</td>\n",
       "    </tr>\n",
       "    <tr>\n",
       "      <th>3</th>\n",
       "      <td>20</td>\n",
       "      <td>37638</td>\n",
       "      <td>CX</td>\n",
       "      <td>E-Hail</td>\n",
       "      <td>Early Cancel</td>\n",
       "      <td>2022-04-01</td>\n",
       "      <td>14:30</td>\n",
       "      <td>14:30</td>\n",
       "      <td>NaN</td>\n",
       "      <td>00:00</td>\n",
       "      <td>00:00</td>\n",
       "      <td>00:00</td>\n",
       "      <td>P</td>\n",
       "      <td>Kings</td>\n",
       "      <td>11209</td>\n",
       "      <td>Richmond</td>\n",
       "      <td>10314</td>\n",
       "      <td>0.00</td>\n",
       "    </tr>\n",
       "    <tr>\n",
       "      <th>4</th>\n",
       "      <td>21</td>\n",
       "      <td>36285</td>\n",
       "      <td>S</td>\n",
       "      <td>Primary</td>\n",
       "      <td>Completed</td>\n",
       "      <td>2022-04-01</td>\n",
       "      <td>09:30</td>\n",
       "      <td>09:30</td>\n",
       "      <td>MAG</td>\n",
       "      <td>09:38</td>\n",
       "      <td>00:00</td>\n",
       "      <td>09:55</td>\n",
       "      <td>P</td>\n",
       "      <td>Kings</td>\n",
       "      <td>11203</td>\n",
       "      <td>Kings</td>\n",
       "      <td>11226</td>\n",
       "      <td>0.90</td>\n",
       "    </tr>\n",
       "  </tbody>\n",
       "</table>\n",
       "</div>"
      ],
      "text/plain": [
       "   TripId  Clientid Status ProviderType       Outcome    Tripdate RequestTime  \\\n",
       "0       1     18958     CX       E-Hail  Early Cancel  2022-04-01       06:30   \n",
       "1       2     33563      S       E-Hail    Authorized  2022-04-01       23:00   \n",
       "2       9     51426     CX       E-Hail  Early Cancel  2022-04-01       15:30   \n",
       "3      20     37638     CX       E-Hail  Early Cancel  2022-04-01       14:30   \n",
       "4      21     36285      S      Primary     Completed  2022-04-01       09:30   \n",
       "\n",
       "  PromiseTime ProviderId APtime APtime1 ADtime Anchor       PickCounty  \\\n",
       "0       05:35        NaN  00:00   00:00  00:00      P     Kings County   \n",
       "1       22:03        ISA  00:00   00:00  00:00      A  Richmond County   \n",
       "2       14:48        NaN  00:00   00:00  00:00      P  New York County   \n",
       "3       14:30        NaN  00:00   00:00  00:00      P            Kings   \n",
       "4       09:30        MAG  09:38   00:00  09:55      P            Kings   \n",
       "\n",
       "  PickZip       DropCounty DropZip  TripMiles  \n",
       "0   11228     Kings County   11219       0.00  \n",
       "1   10308  Richmond County   10307       7.63  \n",
       "2   10022  Richmond County   10301       0.00  \n",
       "3   11209         Richmond   10314       0.00  \n",
       "4   11203            Kings   11226       0.90  "
      ]
     },
     "execution_count": 3,
     "metadata": {},
     "output_type": "execute_result"
    }
   ],
   "source": [
    "trip_df.head()"
   ]
  },
  {
   "cell_type": "markdown",
   "id": "a1a228c4-3a4d-4c5f-8b59-498349b42a91",
   "metadata": {},
   "source": [
    "We have a mix of numeric and categorical data.\n",
    "\n",
    "---\n",
    "\n",
    "## 3. Descriptive statistics of data\n",
    "\n",
    "### Data types"
   ]
  },
  {
   "cell_type": "code",
   "execution_count": 4,
   "id": "bb338fd8-e7a9-47d1-aa18-21c232b232c6",
   "metadata": {},
   "outputs": [
    {
     "name": "stdout",
     "output_type": "stream",
     "text": [
      "<class 'pandas.core.frame.DataFrame'>\n",
      "RangeIndex: 1164013 entries, 0 to 1164012\n",
      "Data columns (total 18 columns):\n",
      " #   Column        Non-Null Count    Dtype  \n",
      "---  ------        --------------    -----  \n",
      " 0   TripId        1164013 non-null  int64  \n",
      " 1   Clientid      1164013 non-null  int64  \n",
      " 2   Status        1164013 non-null  object \n",
      " 3   ProviderType  1164013 non-null  object \n",
      " 4   Outcome       1164013 non-null  object \n",
      " 5   Tripdate      1164013 non-null  object \n",
      " 6   RequestTime   1164013 non-null  object \n",
      " 7   PromiseTime   1164013 non-null  object \n",
      " 8   ProviderId    543476 non-null   object \n",
      " 9   APtime        1164012 non-null  object \n",
      " 10  APtime1       1164013 non-null  object \n",
      " 11  ADtime        1164012 non-null  object \n",
      " 12  Anchor        1164013 non-null  object \n",
      " 13  PickCounty    1138339 non-null  object \n",
      " 14  PickZip       1138336 non-null  object \n",
      " 15  DropCounty    1138338 non-null  object \n",
      " 16  DropZip       1138336 non-null  object \n",
      " 17  TripMiles     1164013 non-null  float64\n",
      "dtypes: float64(1), int64(2), object(15)\n",
      "memory usage: 159.9+ MB\n"
     ]
    }
   ],
   "source": [
    "trip_df.info()"
   ]
  },
  {
   "cell_type": "markdown",
   "id": "acbd47a7-942f-422d-990f-d2ff6c72b156",
   "metadata": {},
   "source": [
    "All of the `datetime` related columns are not currently in datetime format. We will need to convert these later.\n",
    "\n",
    "### Statistics"
   ]
  },
  {
   "cell_type": "code",
   "execution_count": 5,
   "id": "9b4d6698-26b8-43be-bf1f-20795e61cda4",
   "metadata": {},
   "outputs": [
    {
     "data": {
      "text/html": [
       "<div>\n",
       "<style scoped>\n",
       "    .dataframe tbody tr th:only-of-type {\n",
       "        vertical-align: middle;\n",
       "    }\n",
       "\n",
       "    .dataframe tbody tr th {\n",
       "        vertical-align: top;\n",
       "    }\n",
       "\n",
       "    .dataframe thead th {\n",
       "        text-align: right;\n",
       "    }\n",
       "</style>\n",
       "<table border=\"1\" class=\"dataframe\">\n",
       "  <thead>\n",
       "    <tr style=\"text-align: right;\">\n",
       "      <th></th>\n",
       "      <th>TripId</th>\n",
       "      <th>Clientid</th>\n",
       "      <th>TripMiles</th>\n",
       "    </tr>\n",
       "  </thead>\n",
       "  <tbody>\n",
       "    <tr>\n",
       "      <th>count</th>\n",
       "      <td>1.164013e+06</td>\n",
       "      <td>1.164013e+06</td>\n",
       "      <td>1.164013e+06</td>\n",
       "    </tr>\n",
       "    <tr>\n",
       "      <th>mean</th>\n",
       "      <td>5.820057e+05</td>\n",
       "      <td>2.911862e+04</td>\n",
       "      <td>3.362872e+00</td>\n",
       "    </tr>\n",
       "    <tr>\n",
       "      <th>std</th>\n",
       "      <td>3.360214e+05</td>\n",
       "      <td>1.716323e+04</td>\n",
       "      <td>5.427824e+00</td>\n",
       "    </tr>\n",
       "    <tr>\n",
       "      <th>min</th>\n",
       "      <td>0.000000e+00</td>\n",
       "      <td>0.000000e+00</td>\n",
       "      <td>0.000000e+00</td>\n",
       "    </tr>\n",
       "    <tr>\n",
       "      <th>25%</th>\n",
       "      <td>2.910030e+05</td>\n",
       "      <td>1.423400e+04</td>\n",
       "      <td>0.000000e+00</td>\n",
       "    </tr>\n",
       "    <tr>\n",
       "      <th>50%</th>\n",
       "      <td>5.820060e+05</td>\n",
       "      <td>2.958800e+04</td>\n",
       "      <td>0.000000e+00</td>\n",
       "    </tr>\n",
       "    <tr>\n",
       "      <th>75%</th>\n",
       "      <td>8.730080e+05</td>\n",
       "      <td>4.385000e+04</td>\n",
       "      <td>5.130000e+00</td>\n",
       "    </tr>\n",
       "    <tr>\n",
       "      <th>max</th>\n",
       "      <td>1.164011e+06</td>\n",
       "      <td>5.931200e+04</td>\n",
       "      <td>4.649000e+01</td>\n",
       "    </tr>\n",
       "  </tbody>\n",
       "</table>\n",
       "</div>"
      ],
      "text/plain": [
       "             TripId      Clientid     TripMiles\n",
       "count  1.164013e+06  1.164013e+06  1.164013e+06\n",
       "mean   5.820057e+05  2.911862e+04  3.362872e+00\n",
       "std    3.360214e+05  1.716323e+04  5.427824e+00\n",
       "min    0.000000e+00  0.000000e+00  0.000000e+00\n",
       "25%    2.910030e+05  1.423400e+04  0.000000e+00\n",
       "50%    5.820060e+05  2.958800e+04  0.000000e+00\n",
       "75%    8.730080e+05  4.385000e+04  5.130000e+00\n",
       "max    1.164011e+06  5.931200e+04  4.649000e+01"
      ]
     },
     "execution_count": 5,
     "metadata": {},
     "output_type": "execute_result"
    }
   ],
   "source": [
    "trip_df.describe()"
   ]
  },
  {
   "cell_type": "markdown",
   "id": "bb1e113b-6e89-45e4-9b36-a84819ed1c80",
   "metadata": {},
   "source": [
    "Ignore the `TripID` and `ClientID`'s descriptions since they are not exactly 'numerical' variables. Overall the data looks good. The maximum of `TripMiles` is 46 miles, which might be potential outlier. We can proceed with caution.\n",
    "\n",
    "---\n",
    "\n",
    "## 4. Hypothesis Analysis\n",
    "\n",
    "It's time to investigate the cost efficiency of the Paratransit service among the 3 types of services - Primary, Broker, and E-Hail by look into the proportion of successfully completed trips during weekdays and weekends."
   ]
  },
  {
   "cell_type": "code",
   "execution_count": 6,
   "id": "3b7ad43e-34ed-4fd1-af04-7638758a8a29",
   "metadata": {},
   "outputs": [
    {
     "name": "stdout",
     "output_type": "stream",
     "text": [
      "Minimum Date:  2022-04-01\n",
      "Minimum Date:  2022-04-30\n"
     ]
    }
   ],
   "source": [
    "#Checking the date range\n",
    "\n",
    "print('Minimum Date: ', min(trip_df.Tripdate))\n",
    "print('Minimum Date: ', max(trip_df.Tripdate))"
   ]
  },
  {
   "cell_type": "markdown",
   "id": "f10bded3-c28d-41c2-a34a-7df4c54f4925",
   "metadata": {},
   "source": [
    "This data is for April 2022 only.\n",
    "\n",
    "Since we are manipulating the `Tripdate` column, we need to convert the column's datatype to `datetime`."
   ]
  },
  {
   "cell_type": "code",
   "execution_count": 7,
   "id": "669a0166-854d-4ebc-9f5d-21b365605c75",
   "metadata": {},
   "outputs": [
    {
     "data": {
      "text/plain": [
       "dtype('<M8[ns]')"
      ]
     },
     "execution_count": 7,
     "metadata": {},
     "output_type": "execute_result"
    }
   ],
   "source": [
    "trip_df['Tripdate']=pd.to_datetime(trip_df['Tripdate'])\n",
    "trip_df['Tripdate'].dtypes"
   ]
  },
  {
   "cell_type": "markdown",
   "id": "2521d3d3-b9b2-4bfd-86f1-5b8e60218112",
   "metadata": {},
   "source": [
    "    > My approach is to: \n",
    "        1. Create several subsets of data from the main dataframe\n",
    "        2. Perform the calculation and store it in lists\n",
    "        3. Convert the lists to dataframe tables"
   ]
  },
  {
   "cell_type": "code",
   "execution_count": 8,
   "id": "48468c3d-5064-47cc-a9fe-e2ee6f76cc14",
   "metadata": {},
   "outputs": [],
   "source": [
    "#Lists of categorical values of successful trips among the 3 types of service\n",
    "provider_type=['Primary','Broker','E-Hail']\n",
    "trip_outcome=['Authorized','Completed']\n",
    "\n",
    "#Making subsets of completed trips during weekdays and weekend \n",
    "weekday_successful_df=trip_df.loc[(trip_df['Outcome'].isin(trip_outcome)) & (trip_df['Tripdate'].dt.weekday<5)]\n",
    "weekend_successful_df=trip_df.loc[(trip_df['Outcome'].isin(trip_outcome)) & (trip_df['Tripdate'].dt.weekday>=5)]"
   ]
  },
  {
   "cell_type": "markdown",
   "id": "e1944c6b-f498-49dd-b269-37de2909d3db",
   "metadata": {},
   "source": [
    " >**Total successful trips**"
   ]
  },
  {
   "cell_type": "code",
   "execution_count": 9,
   "id": "23a21e6c-c663-4ca6-a187-abca5b8bd47f",
   "metadata": {},
   "outputs": [],
   "source": [
    "#Empty lists for total trips values for weekdays and weekends\n",
    "weekday_successful=[]\n",
    "weekend_successful=[]\n",
    "\n",
    "#Loop through the types of service and append the count of records for weekdays and weekends from the above subsets to the above empty lists\n",
    "for i in provider_type:\n",
    "    weekday_successful.append(len(weekday_successful_df[(weekday_successful_df['ProviderType']==i)]))\n",
    "    weekend_successful.append(len(weekend_successful_df[(weekend_successful_df['ProviderType']==i)]))\n",
    "\n",
    "#Calculate the total trips for weekday and weekend and append it to the list\n",
    "total_weekday_successful=sum(weekday_successful)\n",
    "total_weekend_successful=sum(weekend_successful)\n",
    "weekday_successful.append(total_weekday_successful)\n",
    "weekend_successful.append(total_weekend_successful)\n",
    "\n",
    "#Total trips for each service type\n",
    "total_successful_mode=[x + y for x, y in zip(weekday_successful, weekend_successful)]"
   ]
  },
  {
   "cell_type": "code",
   "execution_count": 10,
   "id": "25085d9d-a76c-4b54-98b2-f45676bf2189",
   "metadata": {},
   "outputs": [],
   "source": [
    "#Header and row index for dataframe transformation\n",
    "header=['Weekday','Weekend','Total']\n",
    "row_header=['Primary','Broker','E-Hail','Total']\n",
    "\n",
    "#Convert the 3 lists to dataframe, using the header and row index\n",
    "total_successful=list(zip(weekday_successful,weekend_successful,total_successful_mode))\n",
    "total_successful_df=pd.DataFrame(total_successful,index=row_header,columns=header)\n",
    "\n",
    "#Tranpose the dataframe\n",
    "total_successful_df=total_successful_df.T"
   ]
  },
  {
   "cell_type": "code",
   "execution_count": 11,
   "id": "bc997460-82a9-4dac-8056-c3f454cbe5f0",
   "metadata": {},
   "outputs": [
    {
     "data": {
      "text/html": [
       "<div>\n",
       "<style scoped>\n",
       "    .dataframe tbody tr th:only-of-type {\n",
       "        vertical-align: middle;\n",
       "    }\n",
       "\n",
       "    .dataframe tbody tr th {\n",
       "        vertical-align: top;\n",
       "    }\n",
       "\n",
       "    .dataframe thead th {\n",
       "        text-align: right;\n",
       "    }\n",
       "</style>\n",
       "<table border=\"1\" class=\"dataframe\">\n",
       "  <thead>\n",
       "    <tr style=\"text-align: right;\">\n",
       "      <th></th>\n",
       "      <th>Primary</th>\n",
       "      <th>Broker</th>\n",
       "      <th>E-Hail</th>\n",
       "      <th>Total</th>\n",
       "    </tr>\n",
       "  </thead>\n",
       "  <tbody>\n",
       "    <tr>\n",
       "      <th>Weekday</th>\n",
       "      <td>112506</td>\n",
       "      <td>230605</td>\n",
       "      <td>86357</td>\n",
       "      <td>429468</td>\n",
       "    </tr>\n",
       "    <tr>\n",
       "      <th>Weekend</th>\n",
       "      <td>27153</td>\n",
       "      <td>58012</td>\n",
       "      <td>17483</td>\n",
       "      <td>102648</td>\n",
       "    </tr>\n",
       "    <tr>\n",
       "      <th>Total</th>\n",
       "      <td>139659</td>\n",
       "      <td>288617</td>\n",
       "      <td>103840</td>\n",
       "      <td>532116</td>\n",
       "    </tr>\n",
       "  </tbody>\n",
       "</table>\n",
       "</div>"
      ],
      "text/plain": [
       "         Primary  Broker  E-Hail   Total\n",
       "Weekday   112506  230605   86357  429468\n",
       "Weekend    27153   58012   17483  102648\n",
       "Total     139659  288617  103840  532116"
      ]
     },
     "execution_count": 11,
     "metadata": {},
     "output_type": "execute_result"
    }
   ],
   "source": [
    "total_successful_df"
   ]
  },
  {
   "cell_type": "markdown",
   "id": "f65e4e5d-dcda-4f6e-8f1c-a54d895ad6a7",
   "metadata": {},
   "source": [
    "From this table we can see the number of successful weekend trips is generally 20-25% of that of the weekday, for all 3 modes. Regarding the concern between the primary and broker mode, primary has fewer successful trips, accounting of around half as much as broker. The total of successful broker trip is more than half of the grand total. "
   ]
  },
  {
   "cell_type": "markdown",
   "id": "74e43229-b6fa-4c24-bc37-84fc7f31b633",
   "metadata": {},
   "source": [
    " >**Average trips per day**"
   ]
  },
  {
   "cell_type": "code",
   "execution_count": 12,
   "id": "4de205ae-3a19-435d-b533-f8d63f015b9e",
   "metadata": {},
   "outputs": [
    {
     "name": "stdout",
     "output_type": "stream",
     "text": [
      "# of weekdays:  21\n",
      "# of weekends:  9\n"
     ]
    }
   ],
   "source": [
    "#Calculate the number of weekdays and weekends to for average calculations\n",
    "weekday_count=len(pd.date_range(min(trip_df.Tripdate),max(trip_df.Tripdate),freq='B'))\n",
    "weekend_count=len(pd.date_range(min(trip_df.Tripdate),max(trip_df.Tripdate),freq='D'))-weekday_count\n",
    "\n",
    "print('# of weekdays: ', weekday_count)\n",
    "print('# of weekends: ',weekend_count)"
   ]
  },
  {
   "cell_type": "code",
   "execution_count": 13,
   "id": "f5525d70-3c74-4f59-bc3b-14a66605f2e9",
   "metadata": {},
   "outputs": [],
   "source": [
    "#Empty list to store average values for weekdays and weekends\n",
    "avg_weekday=[]\n",
    "avg_weekend=[]\n",
    "\n",
    "#Loop through the weekday/weekend total trips list and divide by the number of weekdays/weekends, round to 2 decimal places\n",
    "for i in weekday_successful:\n",
    "    avg_weekday.append(round(i/weekday_count,2))\n",
    "for j in weekend_successful:\n",
    "    avg_weekend.append(round(j/weekend_count,2))"
   ]
  },
  {
   "cell_type": "code",
   "execution_count": 14,
   "id": "730b23b7-6535-48df-bd42-16a953371387",
   "metadata": {},
   "outputs": [],
   "source": [
    "#Convert the 2 lists to dataframe, using the header and slicing of row index\n",
    "total_average=list(zip(avg_weekday,avg_weekend))\n",
    "total_average_df=pd.DataFrame(total_average,index=row_header,columns=header[:2])\n",
    "\n",
    "#Tranpose the dataframe\n",
    "total_average_df=total_average_df.T"
   ]
  },
  {
   "cell_type": "code",
   "execution_count": 15,
   "id": "355df646-5789-42f4-b2f9-933200cf1037",
   "metadata": {},
   "outputs": [
    {
     "data": {
      "text/html": [
       "<div>\n",
       "<style scoped>\n",
       "    .dataframe tbody tr th:only-of-type {\n",
       "        vertical-align: middle;\n",
       "    }\n",
       "\n",
       "    .dataframe tbody tr th {\n",
       "        vertical-align: top;\n",
       "    }\n",
       "\n",
       "    .dataframe thead th {\n",
       "        text-align: right;\n",
       "    }\n",
       "</style>\n",
       "<table border=\"1\" class=\"dataframe\">\n",
       "  <thead>\n",
       "    <tr style=\"text-align: right;\">\n",
       "      <th></th>\n",
       "      <th>Primary</th>\n",
       "      <th>Broker</th>\n",
       "      <th>E-Hail</th>\n",
       "      <th>Total</th>\n",
       "    </tr>\n",
       "  </thead>\n",
       "  <tbody>\n",
       "    <tr>\n",
       "      <th>Weekday</th>\n",
       "      <td>5357.43</td>\n",
       "      <td>10981.19</td>\n",
       "      <td>4112.24</td>\n",
       "      <td>20450.86</td>\n",
       "    </tr>\n",
       "    <tr>\n",
       "      <th>Weekend</th>\n",
       "      <td>3017.00</td>\n",
       "      <td>6445.78</td>\n",
       "      <td>1942.56</td>\n",
       "      <td>11405.33</td>\n",
       "    </tr>\n",
       "  </tbody>\n",
       "</table>\n",
       "</div>"
      ],
      "text/plain": [
       "         Primary    Broker   E-Hail     Total\n",
       "Weekday  5357.43  10981.19  4112.24  20450.86\n",
       "Weekend  3017.00   6445.78  1942.56  11405.33"
      ]
     },
     "execution_count": 15,
     "metadata": {},
     "output_type": "execute_result"
    }
   ],
   "source": [
    "total_average_df"
   ]
  },
  {
   "cell_type": "markdown",
   "id": "110803ed-d662-4cc8-86b7-2aeb3c09337b",
   "metadata": {},
   "source": [
    "The average successful trips is approximately halved from the total number of successful trips between weekday and weekend, since there are more than twice as much as the number of weekdays than weekends. Successful primary trips are still half as much as broker's, which is also still half of the total."
   ]
  },
  {
   "cell_type": "markdown",
   "id": "492da729-b176-41d5-a03f-cd3532454498",
   "metadata": {},
   "source": [
    " >**Percent of trips by mode**"
   ]
  },
  {
   "cell_type": "code",
   "execution_count": 16,
   "id": "68431995-0831-4766-adbe-d68db3a39452",
   "metadata": {},
   "outputs": [],
   "source": [
    "#Empty list to store percentage values for weekdays and weekends\n",
    "weekday_percent=[]\n",
    "weekend_percent=[]\n",
    "\n",
    "# Loop through the weekday/weekend total trips list and divide by the total trips of weekdays/weekends, multiply by 100, and round to 2 decimal places\n",
    "for i in weekday_successful:\n",
    "    weekday_percent.append(str(round((i/total_weekday_successful)*100,2))+\"%\")\n",
    "for j in weekend_successful:\n",
    "    weekend_percent.append(str(round((j/total_weekend_successful)*100,2))+\"%\")"
   ]
  },
  {
   "cell_type": "code",
   "execution_count": 17,
   "id": "8539a5f8-bb65-481e-993a-927111defc5b",
   "metadata": {},
   "outputs": [],
   "source": [
    "#Convert the 2 lists to dataframe, using the header and slicing of row index\n",
    "total_percentage=list(zip(weekday_percent,weekend_percent))\n",
    "total_percentage_df=pd.DataFrame(total_percentage,index=row_header,columns=header[:2])\n",
    "\n",
    "#Tranpose the dataframe\n",
    "total_percentage_df=total_percentage_df.T"
   ]
  },
  {
   "cell_type": "code",
   "execution_count": 18,
   "id": "f5017559-dc14-448b-b6c6-ee0b3c180c5a",
   "metadata": {},
   "outputs": [
    {
     "data": {
      "text/html": [
       "<div>\n",
       "<style scoped>\n",
       "    .dataframe tbody tr th:only-of-type {\n",
       "        vertical-align: middle;\n",
       "    }\n",
       "\n",
       "    .dataframe tbody tr th {\n",
       "        vertical-align: top;\n",
       "    }\n",
       "\n",
       "    .dataframe thead th {\n",
       "        text-align: right;\n",
       "    }\n",
       "</style>\n",
       "<table border=\"1\" class=\"dataframe\">\n",
       "  <thead>\n",
       "    <tr style=\"text-align: right;\">\n",
       "      <th></th>\n",
       "      <th>Primary</th>\n",
       "      <th>Broker</th>\n",
       "      <th>E-Hail</th>\n",
       "      <th>Total</th>\n",
       "    </tr>\n",
       "  </thead>\n",
       "  <tbody>\n",
       "    <tr>\n",
       "      <th>Weekday</th>\n",
       "      <td>26.2%</td>\n",
       "      <td>53.7%</td>\n",
       "      <td>20.11%</td>\n",
       "      <td>100.0%</td>\n",
       "    </tr>\n",
       "    <tr>\n",
       "      <th>Weekend</th>\n",
       "      <td>26.45%</td>\n",
       "      <td>56.52%</td>\n",
       "      <td>17.03%</td>\n",
       "      <td>100.0%</td>\n",
       "    </tr>\n",
       "  </tbody>\n",
       "</table>\n",
       "</div>"
      ],
      "text/plain": [
       "        Primary  Broker  E-Hail   Total\n",
       "Weekday   26.2%   53.7%  20.11%  100.0%\n",
       "Weekend  26.45%  56.52%  17.03%  100.0%"
      ]
     },
     "execution_count": 18,
     "metadata": {},
     "output_type": "execute_result"
    }
   ],
   "source": [
    "total_percentage_df"
   ]
  },
  {
   "cell_type": "markdown",
   "id": "7278d0e3-c1f2-405e-8ce1-17b7b0d14f97",
   "metadata": {},
   "source": [
    "The weekday and weekend percentage for all 3 modes are relatively the same. It also confirms the accuracy of our analysis above - primary has half as much trips as broker, and one-third of broker and e-hail combined. Broker and e-hail trips are 75% of all successful trips. Considering the fact that primary trips are more expensive than broker and e-hail, this analysis shows a positive outcome, especially when the MTA receive less information and detail about the broker and e-hail trips."
   ]
  },
  {
   "cell_type": "markdown",
   "id": "a034bed3-5cf3-43dc-89f2-be4df27b77cd",
   "metadata": {},
   "source": [
    " >**Top 10 zip codes where Primary trip pickups take place during the AM rush hour (6-10 AM)** \n",
    " \n",
    "Now that we have the proportion of trips completed on Primary versus other mode, it is viable to make the Paratransit service more cost-effective by starting a new circular procurement for more providers. By showing the top 10 zip codes that is most common for primary trip pickups, this new 'geographic score' feature might be helpful to appropriately distribute the providers from depots to the pickups, thus saving cost and time for both the MTA and the customers.\n",
    "\n",
    "Since the problem asks for the scheduled time to pickup, `PromiseTime` is the best fit in this case. As we have some timestamps larger than 23:59, let's check the maximum time that we have in the entire dataset."
   ]
  },
  {
   "cell_type": "code",
   "execution_count": 19,
   "id": "b858ed35-2a3e-42ab-bbb1-c5053cf6dac4",
   "metadata": {},
   "outputs": [
    {
     "name": "stdout",
     "output_type": "stream",
     "text": [
      "Maximum time:  29:50\n",
      "New maximum hour:  5\n"
     ]
    }
   ],
   "source": [
    "print('Maximum time: ', max(trip_df['PromiseTime']))\n",
    "print('New maximum hour: ',int(max(trip_df['PromiseTime'].str.slice(stop=2)))-24)"
   ]
  },
  {
   "cell_type": "markdown",
   "id": "156fc6bc-3cf2-4f97-996b-ef7d1afc317f",
   "metadata": {},
   "source": [
    "The largest timestamp that expanded in a day after is still earlier than 6 AM, so we can temporarily ignore those records for the purpose of this problem. There is a potentiality of missing records but it should be very minimal."
   ]
  },
  {
   "cell_type": "code",
   "execution_count": 20,
   "id": "0e141244-14d4-4e41-9771-329e276130af",
   "metadata": {},
   "outputs": [],
   "source": [
    "#A subset of successful primary trip\n",
    "successful_primary=trip_df.loc[(trip_df['Outcome']=='Completed') & (trip_df['ProviderType']=='Primary')]"
   ]
  },
  {
   "cell_type": "code",
   "execution_count": 21,
   "id": "c62e54e1-a46e-49d7-ba6f-eab2dc777d3f",
   "metadata": {},
   "outputs": [
    {
     "data": {
      "text/html": [
       "<div>\n",
       "<style scoped>\n",
       "    .dataframe tbody tr th:only-of-type {\n",
       "        vertical-align: middle;\n",
       "    }\n",
       "\n",
       "    .dataframe tbody tr th {\n",
       "        vertical-align: top;\n",
       "    }\n",
       "\n",
       "    .dataframe thead th {\n",
       "        text-align: right;\n",
       "    }\n",
       "</style>\n",
       "<table border=\"1\" class=\"dataframe\">\n",
       "  <thead>\n",
       "    <tr style=\"text-align: right;\">\n",
       "      <th></th>\n",
       "      <th>TripId</th>\n",
       "      <th>Clientid</th>\n",
       "      <th>Status</th>\n",
       "      <th>ProviderType</th>\n",
       "      <th>Outcome</th>\n",
       "      <th>Tripdate</th>\n",
       "      <th>RequestTime</th>\n",
       "      <th>PromiseTime</th>\n",
       "      <th>ProviderId</th>\n",
       "      <th>APtime</th>\n",
       "      <th>APtime1</th>\n",
       "      <th>ADtime</th>\n",
       "      <th>Anchor</th>\n",
       "      <th>PickCounty</th>\n",
       "      <th>PickZip</th>\n",
       "      <th>DropCounty</th>\n",
       "      <th>DropZip</th>\n",
       "      <th>TripMiles</th>\n",
       "    </tr>\n",
       "  </thead>\n",
       "  <tbody>\n",
       "    <tr>\n",
       "      <th>4</th>\n",
       "      <td>21</td>\n",
       "      <td>36285</td>\n",
       "      <td>S</td>\n",
       "      <td>Primary</td>\n",
       "      <td>Completed</td>\n",
       "      <td>2022-04-01</td>\n",
       "      <td>09:30</td>\n",
       "      <td>09:30</td>\n",
       "      <td>MAG</td>\n",
       "      <td>09:38</td>\n",
       "      <td>00:00</td>\n",
       "      <td>09:55</td>\n",
       "      <td>P</td>\n",
       "      <td>Kings</td>\n",
       "      <td>11203</td>\n",
       "      <td>Kings</td>\n",
       "      <td>11226</td>\n",
       "      <td>0.90</td>\n",
       "    </tr>\n",
       "    <tr>\n",
       "      <th>8</th>\n",
       "      <td>56</td>\n",
       "      <td>4798</td>\n",
       "      <td>S</td>\n",
       "      <td>Primary</td>\n",
       "      <td>Completed</td>\n",
       "      <td>2022-04-01</td>\n",
       "      <td>07:15</td>\n",
       "      <td>07:15</td>\n",
       "      <td>MVT</td>\n",
       "      <td>07:20</td>\n",
       "      <td>07:14</td>\n",
       "      <td>07:32</td>\n",
       "      <td>P</td>\n",
       "      <td>Kings</td>\n",
       "      <td>11221</td>\n",
       "      <td>Kings</td>\n",
       "      <td>11213</td>\n",
       "      <td>1.13</td>\n",
       "    </tr>\n",
       "    <tr>\n",
       "      <th>9</th>\n",
       "      <td>70</td>\n",
       "      <td>51875</td>\n",
       "      <td>S</td>\n",
       "      <td>Primary</td>\n",
       "      <td>Completed</td>\n",
       "      <td>2022-04-01</td>\n",
       "      <td>09:45</td>\n",
       "      <td>09:45</td>\n",
       "      <td>ITA</td>\n",
       "      <td>10:01</td>\n",
       "      <td>09:57</td>\n",
       "      <td>11:03</td>\n",
       "      <td>P</td>\n",
       "      <td>Queens</td>\n",
       "      <td>11429</td>\n",
       "      <td>New York</td>\n",
       "      <td>10031</td>\n",
       "      <td>19.93</td>\n",
       "    </tr>\n",
       "    <tr>\n",
       "      <th>11</th>\n",
       "      <td>88</td>\n",
       "      <td>21318</td>\n",
       "      <td>S</td>\n",
       "      <td>Primary</td>\n",
       "      <td>Completed</td>\n",
       "      <td>2022-04-01</td>\n",
       "      <td>07:30</td>\n",
       "      <td>07:30</td>\n",
       "      <td>MVT</td>\n",
       "      <td>07:31</td>\n",
       "      <td>07:30</td>\n",
       "      <td>09:01</td>\n",
       "      <td>P</td>\n",
       "      <td>Kings</td>\n",
       "      <td>11236</td>\n",
       "      <td>Kings</td>\n",
       "      <td>11217</td>\n",
       "      <td>7.19</td>\n",
       "    </tr>\n",
       "    <tr>\n",
       "      <th>20</th>\n",
       "      <td>156</td>\n",
       "      <td>36868</td>\n",
       "      <td>S</td>\n",
       "      <td>Primary</td>\n",
       "      <td>Completed</td>\n",
       "      <td>2022-04-01</td>\n",
       "      <td>10:00</td>\n",
       "      <td>10:00</td>\n",
       "      <td>PTC</td>\n",
       "      <td>10:05</td>\n",
       "      <td>09:56</td>\n",
       "      <td>10:51</td>\n",
       "      <td>P</td>\n",
       "      <td>New York</td>\n",
       "      <td>10016</td>\n",
       "      <td>Kings</td>\n",
       "      <td>11206</td>\n",
       "      <td>5.28</td>\n",
       "    </tr>\n",
       "  </tbody>\n",
       "</table>\n",
       "</div>"
      ],
      "text/plain": [
       "    TripId  Clientid Status ProviderType    Outcome   Tripdate RequestTime  \\\n",
       "4       21     36285      S      Primary  Completed 2022-04-01       09:30   \n",
       "8       56      4798      S      Primary  Completed 2022-04-01       07:15   \n",
       "9       70     51875      S      Primary  Completed 2022-04-01       09:45   \n",
       "11      88     21318      S      Primary  Completed 2022-04-01       07:30   \n",
       "20     156     36868      S      Primary  Completed 2022-04-01       10:00   \n",
       "\n",
       "   PromiseTime ProviderId APtime APtime1 ADtime Anchor PickCounty PickZip  \\\n",
       "4        09:30        MAG  09:38   00:00  09:55      P      Kings   11203   \n",
       "8        07:15        MVT  07:20   07:14  07:32      P      Kings   11221   \n",
       "9        09:45        ITA  10:01   09:57  11:03      P     Queens   11429   \n",
       "11       07:30        MVT  07:31   07:30  09:01      P      Kings   11236   \n",
       "20       10:00        PTC  10:05   09:56  10:51      P   New York   10016   \n",
       "\n",
       "   DropCounty DropZip  TripMiles  \n",
       "4       Kings   11226       0.90  \n",
       "8       Kings   11213       1.13  \n",
       "9    New York   10031      19.93  \n",
       "11      Kings   11217       7.19  \n",
       "20      Kings   11206       5.28  "
      ]
     },
     "execution_count": 21,
     "metadata": {},
     "output_type": "execute_result"
    }
   ],
   "source": [
    "#A subset of scheduled (promise) pickup during AM rush hour for successful primary trip\n",
    "successful_primary_promised=successful_primary.loc[(successful_primary['PromiseTime']>='06:00') & (successful_primary['PromiseTime']<='10:00')]\n",
    "successful_primary_promised.head()\n"
   ]
  },
  {
   "cell_type": "code",
   "execution_count": 22,
   "id": "5195b777-d266-44b6-9d7d-67e7962f0114",
   "metadata": {},
   "outputs": [],
   "source": [
    "#Group by zip codes, find the first 10 zips based on the number of trips, ascendingly; and convert to dataframe\n",
    "top_10_zipcode=((successful_primary_promised.PickZip.value_counts()).head(10)).to_frame()\n",
    "\n",
    "#Format the table resetting the index column names\n",
    "top_10_zipcode.reset_index(inplace=True)\n",
    "top_10_zipcode.columns=['ZIP Code','Number of Primary Trips During AM Rush Hour']\n",
    "top_10_zipcode.index+=1"
   ]
  },
  {
   "cell_type": "code",
   "execution_count": 23,
   "id": "df7ae9b7-1539-4bd3-8435-6bd7f0d0da31",
   "metadata": {},
   "outputs": [
    {
     "data": {
      "text/html": [
       "<div>\n",
       "<style scoped>\n",
       "    .dataframe tbody tr th:only-of-type {\n",
       "        vertical-align: middle;\n",
       "    }\n",
       "\n",
       "    .dataframe tbody tr th {\n",
       "        vertical-align: top;\n",
       "    }\n",
       "\n",
       "    .dataframe thead th {\n",
       "        text-align: right;\n",
       "    }\n",
       "</style>\n",
       "<table border=\"1\" class=\"dataframe\">\n",
       "  <thead>\n",
       "    <tr style=\"text-align: right;\">\n",
       "      <th></th>\n",
       "      <th>ZIP Code</th>\n",
       "      <th>Number of Primary Trips During AM Rush Hour</th>\n",
       "    </tr>\n",
       "  </thead>\n",
       "  <tbody>\n",
       "    <tr>\n",
       "      <th>1</th>\n",
       "      <td>10314</td>\n",
       "      <td>1220</td>\n",
       "    </tr>\n",
       "    <tr>\n",
       "      <th>2</th>\n",
       "      <td>11212</td>\n",
       "      <td>905</td>\n",
       "    </tr>\n",
       "    <tr>\n",
       "      <th>3</th>\n",
       "      <td>10304</td>\n",
       "      <td>898</td>\n",
       "    </tr>\n",
       "    <tr>\n",
       "      <th>4</th>\n",
       "      <td>11207</td>\n",
       "      <td>859</td>\n",
       "    </tr>\n",
       "    <tr>\n",
       "      <th>5</th>\n",
       "      <td>10301</td>\n",
       "      <td>792</td>\n",
       "    </tr>\n",
       "    <tr>\n",
       "      <th>6</th>\n",
       "      <td>10306</td>\n",
       "      <td>781</td>\n",
       "    </tr>\n",
       "    <tr>\n",
       "      <th>7</th>\n",
       "      <td>11434</td>\n",
       "      <td>732</td>\n",
       "    </tr>\n",
       "    <tr>\n",
       "      <th>8</th>\n",
       "      <td>11233</td>\n",
       "      <td>664</td>\n",
       "    </tr>\n",
       "    <tr>\n",
       "      <th>9</th>\n",
       "      <td>11691</td>\n",
       "      <td>646</td>\n",
       "    </tr>\n",
       "    <tr>\n",
       "      <th>10</th>\n",
       "      <td>11236</td>\n",
       "      <td>614</td>\n",
       "    </tr>\n",
       "  </tbody>\n",
       "</table>\n",
       "</div>"
      ],
      "text/plain": [
       "   ZIP Code  Number of Primary Trips During AM Rush Hour\n",
       "1     10314                                         1220\n",
       "2     11212                                          905\n",
       "3     10304                                          898\n",
       "4     11207                                          859\n",
       "5     10301                                          792\n",
       "6     10306                                          781\n",
       "7     11434                                          732\n",
       "8     11233                                          664\n",
       "9     11691                                          646\n",
       "10    11236                                          614"
      ]
     },
     "execution_count": 23,
     "metadata": {},
     "output_type": "execute_result"
    }
   ],
   "source": [
    "top_10_zipcode"
   ]
  },
  {
   "cell_type": "code",
   "execution_count": 24,
   "id": "b7330b13-6142-4b38-b173-50070206e494",
   "metadata": {},
   "outputs": [
    {
     "name": "stdout",
     "output_type": "stream",
     "text": [
      "5.81 %\n"
     ]
    }
   ],
   "source": [
    "#Calculate total number of trips in rush hour from the 10 zip codes and percentage\n",
    "total_top_10 = top_10_zipcode['Number of Primary Trips During AM Rush Hour'].sum()\n",
    "print(round((total_top_10/len(successful_primary))*100,2),\"%\")"
   ]
  },
  {
   "cell_type": "markdown",
   "id": "e5385f6f-fc81-4d06-9159-a9d937a342d7",
   "metadata": {},
   "source": [
    "The total number of trips scheduled for pickups in the top 10 zip codes using primary service only accounted for around 6%, which is not that significant. However, it is still useful to include this feature in the cost proposal, if the MTA is looking to expand this feature into other timeframes (afternoon rush hour for example) or modes as it still helps the MTA saving on cost in the long run.\n",
    "\n",
    " >**Mean trip distance and total number of intra/interboro trips within the 4 zip codes and/or Manhattan** \n",
    " \n",
    "Now we are looking into the implementation of 'B-Leg Flexibility' for the customers who wants to be flexible to request the return leg on shorter notice to see if it is cost-feasible, by looking at the mean trip distance and the total number of trips starting/ending in the 4 zip codes of 11201, 10469, 11694, 10306 and/or Manhattan. We will be able to see the general trend of cost to serve Paratransit customers based on their trip location after this analysis."
   ]
  },
  {
   "cell_type": "code",
   "execution_count": 25,
   "id": "80cbae8e-e6e1-4351-b403-52a9c0a9bbaa",
   "metadata": {},
   "outputs": [],
   "source": [
    "#List of zip codes and county involved in the problem and their pairs\n",
    "zip_codes=['11201','10469','11694','10306']\n",
    "county=['Kings','Bronx','Queens','Richmond']\n",
    "zip_county_pair=list(zip(zip_codes,county))\n",
    "\n",
    "#Subset of successful trips\n",
    "successful_trip_df=trip_df.loc[(trip_df['Outcome'].isin(trip_outcome))]"
   ]
  },
  {
   "cell_type": "markdown",
   "id": "0c722228-ced1-4552-8665-309feda083b2",
   "metadata": {},
   "source": [
    "    > Create subsets of data that satisfies the pickup/dropoff for intra/inter-boro trips and total by: \n",
    "        1. For each trip type:\n",
    "            a. Creating an empty dictionary\n",
    "            b. Creating empty lists to store the values of mean distance and total number of trips\n",
    "        3. Storing the data subsets in different variables (dataframes) when looping through each zip code (and/or county) \n",
    "        4. Indicing through the dictionary and do the calculation for each dataframe"
   ]
  },
  {
   "cell_type": "code",
   "execution_count": 26,
   "id": "2980abcc-0994-44d6-be09-4f7ef7bc738f",
   "metadata": {},
   "outputs": [],
   "source": [
    "intra_dict={}\n",
    "intra_total_trip=[]\n",
    "intra_mean_distance=[]\n",
    "\n",
    "for i in zip_county_pair:\n",
    "    #pickup from zip code - dropoff at same borough OR pickup from same borough - dropoff at zip code\n",
    "    intra_dict[\"intra_{0}\".format(i[0])]=pd.concat([successful_trip_df.loc[(successful_trip_df['PickZip']==i[0]) & (successful_trip_df['DropCounty']==i[1])],\n",
    "                                                     successful_trip_df.loc[(successful_trip_df['DropZip']==i[0]) & (successful_trip_df['PickCounty']==i[1])]])\n",
    "\n",
    "for k,v in intra_dict.items():\n",
    "    intra_total_trip.append(len(intra_dict[k]))\n",
    "    intra_mean_distance.append(round((intra_dict[k]['TripMiles'].sum())/len(intra_dict[k]),2))"
   ]
  },
  {
   "cell_type": "code",
   "execution_count": 27,
   "id": "f67a8825-8f0e-4077-9f25-9fd47e0956e9",
   "metadata": {},
   "outputs": [],
   "source": [
    "inter_dict={}\n",
    "inter_total_trip=[]\n",
    "inter_mean_distance=[]\n",
    "\n",
    "for i in zip_codes:\n",
    "    #pickup from zip code - dropoff at Manhattan OR pickup from Manhattan - dropoff at zip code\n",
    "    inter_dict[\"inter_{0}\".format(i)]=pd.concat([successful_trip_df.loc[(successful_trip_df['PickZip']==i) & (successful_trip_df['DropCounty']=='New York')],\n",
    "                                        successful_trip_df.loc[(successful_trip_df['DropZip']==i) & (successful_trip_df['PickCounty']=='New York')]])\n",
    "    \n",
    "for k,v in inter_dict.items():\n",
    "    inter_mean_distance.append(round(inter_dict[k]['TripMiles'].sum()/len(inter_dict[k]),2))\n",
    "    inter_total_trip.append(len(inter_dict[k]))"
   ]
  },
  {
   "cell_type": "code",
   "execution_count": 28,
   "id": "3fe20243-1f0a-4c35-a754-93f8d21d3805",
   "metadata": {},
   "outputs": [],
   "source": [
    "total_dict={}\n",
    "total_mean_distance=[]\n",
    "total_trip=[]\n",
    "\n",
    "for i in zip_codes:\n",
    "    #pick up OR dropoff at zip code\n",
    "    total_dict[\"total_{0}\".format(i)]=successful_trip_df.loc[(successful_trip_df['PickZip']==i) | (successful_trip_df['DropZip']==i)]\n",
    "\n",
    "for k,v in total_dict.items():\n",
    "    total_mean_distance.append(round(total_dict[k]['TripMiles'].sum()/len(total_dict[k]),2))\n",
    "    total_trip.append(len(total_dict[k]))"
   ]
  },
  {
   "cell_type": "code",
   "execution_count": 29,
   "id": "c4a58f90-9b20-4e1f-8100-4dffca8ca45c",
   "metadata": {},
   "outputs": [
    {
     "data": {
      "text/html": [
       "<div>\n",
       "<style scoped>\n",
       "    .dataframe tbody tr th:only-of-type {\n",
       "        vertical-align: middle;\n",
       "    }\n",
       "\n",
       "    .dataframe tbody tr th {\n",
       "        vertical-align: top;\n",
       "    }\n",
       "\n",
       "    .dataframe thead th {\n",
       "        text-align: right;\n",
       "    }\n",
       "</style>\n",
       "<table border=\"1\" class=\"dataframe\">\n",
       "  <thead>\n",
       "    <tr style=\"text-align: right;\">\n",
       "      <th></th>\n",
       "      <th>Intra-boro Mean Distance</th>\n",
       "      <th>Intra-boro Total Trips</th>\n",
       "      <th>Inter-boro Mean Distance</th>\n",
       "      <th>Inter-boro Total Trips</th>\n",
       "      <th>Total Mean Distance</th>\n",
       "      <th>Total Trips</th>\n",
       "    </tr>\n",
       "  </thead>\n",
       "  <tbody>\n",
       "    <tr>\n",
       "      <th>11201</th>\n",
       "      <td>4.34</td>\n",
       "      <td>11850</td>\n",
       "      <td>6.50</td>\n",
       "      <td>1911</td>\n",
       "      <td>6.69</td>\n",
       "      <td>18109</td>\n",
       "    </tr>\n",
       "    <tr>\n",
       "      <th>10469</th>\n",
       "      <td>2.91</td>\n",
       "      <td>4815</td>\n",
       "      <td>10.78</td>\n",
       "      <td>2118</td>\n",
       "      <td>7.12</td>\n",
       "      <td>8101</td>\n",
       "    </tr>\n",
       "    <tr>\n",
       "      <th>11694</th>\n",
       "      <td>7.85</td>\n",
       "      <td>940</td>\n",
       "      <td>19.29</td>\n",
       "      <td>284</td>\n",
       "      <td>10.95</td>\n",
       "      <td>1933</td>\n",
       "    </tr>\n",
       "    <tr>\n",
       "      <th>10306</th>\n",
       "      <td>3.87</td>\n",
       "      <td>4414</td>\n",
       "      <td>20.57</td>\n",
       "      <td>676</td>\n",
       "      <td>8.54</td>\n",
       "      <td>6213</td>\n",
       "    </tr>\n",
       "  </tbody>\n",
       "</table>\n",
       "</div>"
      ],
      "text/plain": [
       "       Intra-boro Mean Distance  Intra-boro Total Trips  \\\n",
       "11201                      4.34                   11850   \n",
       "10469                      2.91                    4815   \n",
       "11694                      7.85                     940   \n",
       "10306                      3.87                    4414   \n",
       "\n",
       "       Inter-boro Mean Distance  Inter-boro Total Trips  Total Mean Distance  \\\n",
       "11201                      6.50                    1911                 6.69   \n",
       "10469                     10.78                    2118                 7.12   \n",
       "11694                     19.29                     284                10.95   \n",
       "10306                     20.57                     676                 8.54   \n",
       "\n",
       "       Total Trips  \n",
       "11201        18109  \n",
       "10469         8101  \n",
       "11694         1933  \n",
       "10306         6213  "
      ]
     },
     "execution_count": 29,
     "metadata": {},
     "output_type": "execute_result"
    }
   ],
   "source": [
    "header=['Intra-boro Mean Distance', 'Intra-boro Total Trips', 'Inter-boro Mean Distance', 'Inter-boro Total Trips', 'Total Mean Distance', 'Total Trips']\n",
    "flex_b_leg=list(zip(intra_mean_distance,intra_total_trip,inter_mean_distance,inter_total_trip,total_mean_distance,total_trip))\n",
    "flex_b_leg_df=pd.DataFrame(flex_b_leg,index=zip_codes,columns=header)\n",
    "flex_b_leg_df"
   ]
  },
  {
   "cell_type": "markdown",
   "id": "d748dc7a-b99e-4a0e-bfc4-289b0ad98086",
   "metadata": {},
   "source": [
    "Based on the 4 ZIP codes, there are 2 aspects to consider. It is the distance of the trips, and the number of newly requested trips within a shorter period of time. Regarding the distance, it is apparent that further zip codes will incur more expenses (Queens and Staten Island in the above table). In respect to the latter, not only the number of miles matters, but also the cost to distribute the provider from the depot/their current location to the pickup location of the customers (that we did a brief analysis on Problem 2) is significant (which might potentially be Brooklyn and the Bronx given their higher total number of trips, specifically when the distances from/to these boroughs are shorter so there might be more flexibility for late scheduling)."
   ]
  },
  {
   "cell_type": "markdown",
   "id": "29e9138a-d501-4e07-ba3b-74f8ec5bc870",
   "metadata": {},
   "source": [
    "## What I could have done differently\n",
    "- The code could be neater where I can utilize more loops for data subsetting, dataframe conversions, and some repetitive calculations, especially for question 1 and 3, which would help tremendously in the automation process and bug fixing in the future.\n",
    "- For question 2, I could parse the PromiseTime hour and minute and do the transformation to the next day's time to retain the generalization of the data.\n"
   ]
  },
  {
   "cell_type": "code",
   "execution_count": null,
   "id": "51f46d02-7ca2-4e14-9188-a2462b307933",
   "metadata": {},
   "outputs": [],
   "source": []
  }
 ],
 "metadata": {
  "kernelspec": {
   "display_name": "Python 3.7.4 64-bit",
   "language": "python",
   "name": "python3"
  },
  "language_info": {
   "codemirror_mode": {
    "name": "ipython",
    "version": 3
   },
   "file_extension": ".py",
   "mimetype": "text/x-python",
   "name": "python",
   "nbconvert_exporter": "python",
   "pygments_lexer": "ipython3",
   "version": "3.7.4"
  },
  "vscode": {
   "interpreter": {
    "hash": "aee8b7b246df8f9039afb4144a1f6fd8d2ca17a180786b69acc140d282b71a49"
   }
  }
 },
 "nbformat": 4,
 "nbformat_minor": 5
}
